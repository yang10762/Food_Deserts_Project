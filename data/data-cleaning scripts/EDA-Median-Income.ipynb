{
 "cells": [
  {
   "cell_type": "code",
   "execution_count": 2,
   "metadata": {},
   "outputs": [],
   "source": [
    "import pandas as pd\n",
    "import numpy as np"
   ]
  },
  {
   "cell_type": "code",
   "execution_count": 3,
   "metadata": {},
   "outputs": [],
   "source": [
    "directory = '/Users/matth/Documents/MCIT/CIS5500/Project/Project-Data'\n",
    "filePath = directory + '/2010-ACS-Median-Income-by-CT/2010-ACS-Median-Income-by-CT-S1903-Data.csv'\n",
    "medianIncome2010 = pd.read_csv(filePath)\n",
    "\n",
    "filePath = directory + '/2015-ACS-Median-Income-by-CT/2015-ACS-Median-Income-by-CT-S1903-Data.csv'\n",
    "medianIncome2015 = pd.read_csv(filePath)\n",
    "\n",
    "filePath = directory + '/2010-Race-by-CT/2010-Race-by-CT-P3-Data.csv'\n",
    "race = pd.read_csv(filePath)\n",
    "\n",
    "filePath = directory + '/2010-Hisp-or-Lat-Origin-by-CT/2010-Hisp-or-Lat-Origin-by-CT-P4-Data.csv'\n",
    "hispLat = pd.read_csv(filePath)\n",
    "\n",
    "filePath = directory + '/2010-Sex-by-Age-by-CT/2010-Sex-by-Age-by-CT-P12-Data.csv'\n",
    "sexByAge = pd.read_csv(filePath)\n",
    "\n",
    "filePath = directory + '/2010-Household-Size-by-CT/2010-Household-Size-by-CT-P28-Data.csv'\n",
    "household_size = pd.read_csv(filePath)"
   ]
  },
  {
   "cell_type": "code",
   "execution_count": 4,
   "metadata": {},
   "outputs": [],
   "source": [
    "medianIncome2010 = medianIncome2010.filter(regex='^(?!Annotation of)[\\w \\(\\)]+(?:!!(?!Margin of Error)[\\w \\(\\)]+!!.*)?$')\n",
    "medianIncome2010 = medianIncome2010.take([0,1,2,3],1)"
   ]
  },
  {
   "cell_type": "code",
   "execution_count": 5,
   "metadata": {},
   "outputs": [],
   "source": [
    "medianIncome2015 = medianIncome2015.filter(regex='^(?!Annotation of)[\\w \\(\\)]+(?:!!(?!Margin of Error)[\\w \\(\\)]+!!.*)?$')\n",
    "medianIncome2015 = medianIncome2015.take([0,1,2,3],1)"
   ]
  },
  {
   "cell_type": "code",
   "execution_count": 6,
   "metadata": {},
   "outputs": [],
   "source": [
    "race = race.filter(regex='^(?!Errata of Total).*$')"
   ]
  },
  {
   "cell_type": "code",
   "execution_count": 7,
   "metadata": {},
   "outputs": [],
   "source": [
    "hispLat = hispLat.filter(regex='^(?!Errata of Total).*$')"
   ]
  },
  {
   "cell_type": "code",
   "execution_count": 8,
   "metadata": {},
   "outputs": [],
   "source": [
    "age0to9 = sexByAge.get(['Total!!Male!!Under 5 years', 'Total!!Male!!5 to 9 years', 'Total!!Female!!Under 5 years', 'Total!!Female!!5 to 9 years' ])\n",
    "sexByAge = sexByAge.drop(columns=['Total!!Male!!Under 5 years', 'Total!!Male!!5 to 9 years', 'Total!!Female!!Under 5 years', 'Total!!Female!!5 to 9 years' ])"
   ]
  },
  {
   "cell_type": "code",
   "execution_count": 9,
   "metadata": {},
   "outputs": [],
   "source": [
    "age10to17 = sexByAge.get(['Total!!Male!!10 to 14 years', 'Total!!Male!!15 to 17 years', 'Total!!Female!!10 to 14 years', 'Total!!Female!!15 to 17 years' ])\n",
    "sexByAge = sexByAge.drop(columns=['Total!!Male!!10 to 14 years', 'Total!!Male!!15 to 17 years', 'Total!!Female!!10 to 14 years', 'Total!!Female!!15 to 17 years' ])"
   ]
  },
  {
   "cell_type": "code",
   "execution_count": 10,
   "metadata": {},
   "outputs": [],
   "source": [
    "age18to29 = sexByAge.get(['Total!!Male!!18 and 19 years', 'Total!!Male!!20 years', 'Total!!Male!!21 years', 'Total!!Male!!22 to 24 years', 'Total!!Male!!25 to 29 years', 'Total!!Female!!18 and 19 years', 'Total!!Female!!20 years', 'Total!!Female!!21 years', 'Total!!Female!!22 to 24 years', 'Total!!Female!!25 to 29 years' ])\n",
    "sexByAge = sexByAge.drop(columns=['Total!!Male!!18 and 19 years', 'Total!!Male!!20 years', 'Total!!Male!!21 years', 'Total!!Male!!22 to 24 years', 'Total!!Male!!25 to 29 years', 'Total!!Female!!18 and 19 years', 'Total!!Female!!20 years', 'Total!!Female!!21 years', 'Total!!Female!!22 to 24 years', 'Total!!Female!!25 to 29 years' ])"
   ]
  },
  {
   "cell_type": "code",
   "execution_count": 11,
   "metadata": {},
   "outputs": [],
   "source": [
    "age30to39 = sexByAge.get(['Total!!Male!!30 to 34 years', 'Total!!Male!!35 to 39 years', 'Total!!Female!!30 to 34 years', 'Total!!Female!!35 to 39 years' ])\n",
    "sexByAge = sexByAge.drop(columns=['Total!!Male!!30 to 34 years', 'Total!!Male!!35 to 39 years', 'Total!!Female!!30 to 34 years', 'Total!!Female!!35 to 39 years' ])"
   ]
  },
  {
   "cell_type": "code",
   "execution_count": 12,
   "metadata": {},
   "outputs": [],
   "source": [
    "age40to49 = sexByAge.get(['Total!!Male!!40 to 44 years', 'Total!!Male!!45 to 49 years', 'Total!!Female!!40 to 44 years', 'Total!!Female!!45 to 49 years' ])\n",
    "sexByAge = sexByAge.drop(columns=['Total!!Male!!40 to 44 years', 'Total!!Male!!45 to 49 years', 'Total!!Female!!40 to 44 years', 'Total!!Female!!45 to 49 years' ])"
   ]
  },
  {
   "cell_type": "code",
   "execution_count": 13,
   "metadata": {},
   "outputs": [],
   "source": [
    "age50to59 = sexByAge.get(['Total!!Male!!50 to 54 years', 'Total!!Male!!55 to 59 years', 'Total!!Female!!50 to 54 years', 'Total!!Female!!55 to 59 years' ])\n",
    "sexByAge = sexByAge.drop(columns=['Total!!Male!!50 to 54 years', 'Total!!Male!!55 to 59 years', 'Total!!Female!!50 to 54 years', 'Total!!Female!!55 to 59 years' ])"
   ]
  },
  {
   "cell_type": "code",
   "execution_count": 14,
   "metadata": {},
   "outputs": [],
   "source": [
    "age60to69 = sexByAge.get(['Total!!Male!!60 and 61 years', 'Total!!Male!!62 to 64 years', 'Total!!Male!!65 and 66 years', 'Total!!Male!!67 to 69 years', 'Total!!Female!!60 and 61 years', 'Total!!Female!!62 to 64 years', 'Total!!Female!!65 and 66 years', 'Total!!Female!!67 to 69 years'])\n",
    "sexByAge = sexByAge.drop(columns=['Total!!Male!!60 and 61 years', 'Total!!Male!!62 to 64 years', 'Total!!Male!!65 and 66 years', 'Total!!Male!!67 to 69 years', 'Total!!Female!!60 and 61 years', 'Total!!Female!!62 to 64 years', 'Total!!Female!!65 and 66 years', 'Total!!Female!!67 to 69 years'])"
   ]
  },
  {
   "cell_type": "code",
   "execution_count": 15,
   "metadata": {},
   "outputs": [],
   "source": [
    "age70to79 = sexByAge.get(['Total!!Male!!70 to 74 years', 'Total!!Male!!75 to 79 years', 'Total!!Female!!70 to 74 years', 'Total!!Female!!75 to 79 years' ])\n",
    "sexByAge = sexByAge.drop(columns=['Total!!Male!!70 to 74 years', 'Total!!Male!!75 to 79 years', 'Total!!Female!!70 to 74 years', 'Total!!Female!!75 to 79 years' ])"
   ]
  },
  {
   "cell_type": "code",
   "execution_count": 16,
   "metadata": {},
   "outputs": [],
   "source": [
    "age80Plus = sexByAge.get(['Total!!Male!!80 to 84 years', 'Total!!Male!!85 years and over', 'Total!!Female!!80 to 84 years', 'Total!!Female!!85 years and over' ])\n",
    "sexByAge = sexByAge.drop(columns=['Total!!Male!!80 to 84 years', 'Total!!Male!!85 years and over', 'Total!!Female!!80 to 84 years', 'Total!!Female!!85 years and over' ])"
   ]
  },
  {
   "cell_type": "code",
   "execution_count": 17,
   "metadata": {},
   "outputs": [],
   "source": [
    "sexByAge = sexByAge.drop(columns=['Errata of Total'])\n",
    "sexByAge = sexByAge.rename(columns={'Total': 'total', 'Total!!Male': 'male', 'Total!!Female': 'female'})"
   ]
  },
  {
   "cell_type": "code",
   "execution_count": 18,
   "metadata": {},
   "outputs": [],
   "source": [
    "totalAge0to9 = age0to9.sum(axis=1)\n",
    "totalAge10to17 = age10to17.sum(axis=1)\n",
    "totalAge18to29 = age18to29.sum(axis=1)\n",
    "totalAge30to39 = age30to39.sum(axis=1)\n",
    "totalAge40to49 = age40to49.sum(axis=1)\n",
    "totalAge50to59 = age50to59.sum(axis=1)\n",
    "totalAge60to69 = age60to69.sum(axis=1)\n",
    "totalAge70to79 = age70to79.sum(axis=1)\n",
    "totalAge80Plus = age80Plus.sum(axis=1)"
   ]
  },
  {
   "cell_type": "code",
   "execution_count": 19,
   "metadata": {},
   "outputs": [],
   "source": [
    "age_sex = sexByAge\n",
    "age_sex.insert(len(age_sex.columns), 'age_0_9', totalAge0to9)\n",
    "age_sex.insert(len(age_sex.columns), 'age_10_17', totalAge10to17)\n",
    "age_sex.insert(len(age_sex.columns), 'age_18_29', totalAge18to29)\n",
    "age_sex.insert(len(age_sex.columns), 'age_30_39', totalAge30to39)\n",
    "age_sex.insert(len(age_sex.columns), 'age_40_49', totalAge40to49)\n",
    "age_sex.insert(len(age_sex.columns), 'age_50_59', totalAge50to59)\n",
    "age_sex.insert(len(age_sex.columns), 'age_60_69', totalAge60to69)\n",
    "age_sex.insert(len(age_sex.columns), 'age_70_79', totalAge70to79)\n",
    "age_sex.insert(len(age_sex.columns), 'age_80_plus', totalAge80Plus)"
   ]
  },
  {
   "cell_type": "code",
   "execution_count": 20,
   "metadata": {},
   "outputs": [],
   "source": [
    "geoid = age_sex.pop('GEO_ID').apply(lambda x: x[9:])\n",
    "age_sex.insert(0, 'geo_id', geoid)\n",
    "\n",
    "geo = age_sex.pop('Geographic Area Name').apply(lambda x: x.split(', ')).to_list()\n",
    "geodf = pd.DataFrame(geo, columns=['tract','county','state']).drop(columns='tract')\n",
    "age_sex.insert(1, 'county', geodf.get('county'))\n",
    "age_sex.insert(2, 'state', geodf.get('state'))\n",
    "\n",
    "# age_sex is done"
   ]
  },
  {
   "cell_type": "code",
   "execution_count": 21,
   "metadata": {},
   "outputs": [],
   "source": [
    "geoid = hispLat.pop('GEO_ID').apply(lambda x: x[9:])\n",
    "hispLat.insert(0, 'geo_id', geoid)\n",
    "\n",
    "geo = hispLat.pop('Geographic Area Name').apply(lambda x: x.split(', ')).to_list()\n",
    "geodf = pd.DataFrame(geo, columns=['tract','county','state']).drop(columns='tract')\n",
    "hispLat.insert(1, 'county', geodf.get('county'))\n",
    "hispLat.insert(2, 'state', geodf.get('state'))\n",
    "\n",
    "hispLat.rename(columns={'Total':'total', 'Total!!Not Hispanic or Latino':'total_not_hisp_lat', 'Total!!Hispanic or Latino': 'total_hisp_lat'}, inplace=True)"
   ]
  },
  {
   "cell_type": "code",
   "execution_count": 22,
   "metadata": {},
   "outputs": [],
   "source": [
    "geoid = race.pop('GEO_ID').apply(lambda x: x[9:])\n",
    "race.insert(0, 'geo_id', geoid)\n",
    "\n",
    "geo = race.pop('Geographic Area Name').apply(lambda x: x.split(', ')).to_list()\n",
    "geodf = pd.DataFrame(geo, columns=['tract','county','state']).drop(columns='tract')\n",
    "race.insert(1, 'county', geodf.get('county'))\n",
    "race.insert(2, 'state', geodf.get('state'))\n",
    "\n",
    "race.rename(columns={'Total':'total', 'Total!!White alone':'total_white', 'Total!!Black or African American alone': 'total_black_aa', 'Total!!American Indian and Alaska Native alone':'total_indigenous', 'Total!!Asian alone':'total_asian', 'Total!!Native Hawaiian and Other Pacific Islander alone': 'total_hawaiian_pacific', 'Total!!Some Other Race alone': 'total_other', 'Total!!Two or More Races': 'total_multi'}, inplace=True)"
   ]
  },
  {
   "cell_type": "code",
   "execution_count": 23,
   "metadata": {},
   "outputs": [],
   "source": [
    "race_ethnicity = race.merge(hispLat, on=['geo_id', 'county', 'state', 'total'])\n",
    "# race_ethnicity done"
   ]
  },
  {
   "cell_type": "code",
   "execution_count": 24,
   "metadata": {},
   "outputs": [],
   "source": [
    "geoid = medianIncome2015.pop('GEO_ID').apply(lambda x: x[9:])\n",
    "medianIncome2015.insert(0, 'geo_id', geoid)\n",
    "\n",
    "geo = medianIncome2015.pop('Geographic Area Name').apply(lambda x: x.split(', ')).to_list()\n",
    "geodf = pd.DataFrame(geo, columns=['tract','county','state']).drop(columns='tract')\n",
    "medianIncome2015.insert(1, 'county', geodf.get('county'))\n",
    "medianIncome2015.insert(2, 'state', geodf.get('state'))\n",
    "\n",
    "medianIncome2015.rename(columns={'Total!!Estimate!!Households': 'est_households_2015', 'Median income (dollars)!!Estimate!!Households':'est_med_income_2015'}, inplace=True)"
   ]
  },
  {
   "cell_type": "code",
   "execution_count": 25,
   "metadata": {},
   "outputs": [],
   "source": [
    "geoid = medianIncome2010.pop('GEO_ID').apply(lambda x: x[9:])\n",
    "medianIncome2010.insert(0, 'geo_id', geoid)\n",
    "\n",
    "geo = medianIncome2010.pop('Geographic Area Name').apply(lambda x: x.split(', ')).to_list()\n",
    "geodf = pd.DataFrame(geo, columns=['tract','county','state']).drop(columns='tract')\n",
    "medianIncome2010.insert(1, 'county', geodf.get('county'))\n",
    "medianIncome2010.insert(2, 'state', geodf.get('state'))\n",
    "\n",
    "medianIncome2010.rename(columns={'Total!!Estimate!!Households': 'est_households_2010', 'Median income (dollars)!!Estimate!!Households':'est_med_income_2010'}, inplace=True)\n"
   ]
  },
  {
   "cell_type": "code",
   "execution_count": 26,
   "metadata": {},
   "outputs": [],
   "source": [
    "income = medianIncome2010.merge(medianIncome2015, on=['geo_id', 'county', 'state'], how='outer')\n",
    "# income done"
   ]
  },
  {
   "cell_type": "code",
   "execution_count": 27,
   "metadata": {},
   "outputs": [],
   "source": [
    "household_size.drop(columns='Errata of Total', inplace=True)\n",
    "\n",
    "geoid = household_size.pop('GEO_ID').apply(lambda x: x[9:])\n",
    "household_size.insert(0, 'geo_id', geoid)\n",
    "\n",
    "geo = household_size.pop('Geographic Area Name').apply(lambda x: x.split(', ')).to_list()\n",
    "geodf = pd.DataFrame(geo, columns=['tract','county','state']).drop(columns='tract')\n",
    "household_size.insert(1, 'county', geodf.get('county'))\n",
    "household_size.insert(2, 'state', geodf.get('state'))\n",
    "\n",
    "household_size.rename(columns={'Total':'total_households', 'Total!!Family households': 'total_family', 'Total!!Family households!!2-person household':'family_2', 'Total!!Family households!!3-person household':'family_3', 'Total!!Family households!!4-person household':'family_4', 'Total!!Family households!!5-person household':'family_5', 'Total!!Family households!!6-person household':'family_6', 'Total!!Family households!!7-or-more-person household':'family_7_plus', 'Total!!Nonfamily households': 'total_nonfamily', 'Total!!Nonfamily households!!1-person household':'nonfamily_1', 'Total!!Nonfamily households!!2-person household':'nonfamily_2', 'Total!!Nonfamily households!!3-person household':'nonfamily_3', 'Total!!Nonfamily households!!4-person household':'nonfamily_4', 'Total!!Nonfamily households!!5-person household':'nonfamily_5', 'Total!!Nonfamily households!!6-person household':'nonfamily_6', 'Total!!Nonfamily households!!7-or-more-person household':'nonfamily_7_plus'}, inplace=True)\n"
   ]
  },
  {
   "cell_type": "code",
   "execution_count": 28,
   "metadata": {},
   "outputs": [],
   "source": [
    "age_sex_locations = pd.DataFrame(age_sex.get(['geo_id', 'county', 'state']))\n",
    "race_ethnicity_locations = pd.DataFrame(race_ethnicity.get(['geo_id', 'county', 'state']))\n",
    "household_size_locations = pd.DataFrame(household_size.get(['geo_id', 'county', 'state']))\n",
    "income_locations = pd.DataFrame(income.get(['geo_id', 'county', 'state']))\n",
    "\n",
    "location = age_sex_locations.merge(race_ethnicity_locations, how='outer', sort=True).merge(household_size_locations, how='outer', sort=True).merge(income_locations, how='outer', sort=True)\n"
   ]
  },
  {
   "cell_type": "code",
   "execution_count": 29,
   "metadata": {},
   "outputs": [],
   "source": [
    "age_sex.drop(columns=['county', 'state'], inplace=True)\n",
    "race_ethnicity.drop(columns=['county', 'state'], inplace=True)\n",
    "household_size.drop(columns=['county', 'state'], inplace=True)\n",
    "income.drop(columns=['county', 'state'], inplace=True)"
   ]
  },
  {
   "cell_type": "code",
   "execution_count": 30,
   "metadata": {},
   "outputs": [],
   "source": [
    "age_sex.to_csv('age_sex.csv', index=False)\n",
    "race_ethnicity.to_csv('race_ethnicity.csv', index=False)\n",
    "household_size.to_csv('household_size.csv', index=False)\n",
    "income.to_csv('income.csv', index=False)\n",
    "location.to_csv('location.csv', index=False)"
   ]
  }
 ],
 "metadata": {
  "kernelspec": {
   "display_name": "Python 3.10.2 64-bit",
   "language": "python",
   "name": "python3"
  },
  "language_info": {
   "codemirror_mode": {
    "name": "ipython",
    "version": 3
   },
   "file_extension": ".py",
   "mimetype": "text/x-python",
   "name": "python",
   "nbconvert_exporter": "python",
   "pygments_lexer": "ipython3",
   "version": "3.10.2"
  },
  "orig_nbformat": 4,
  "vscode": {
   "interpreter": {
    "hash": "369f2c481f4da34e4445cda3fffd2e751bd1c4d706f27375911949ba6bb62e1c"
   }
  }
 },
 "nbformat": 4,
 "nbformat_minor": 2
}
